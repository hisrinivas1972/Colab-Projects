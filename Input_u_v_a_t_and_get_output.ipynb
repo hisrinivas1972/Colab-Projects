{
  "nbformat": 4,
  "nbformat_minor": 0,
  "metadata": {
    "colab": {
      "name": "Input u_v_a_t and get output.ipynb",
      "provenance": [],
      "collapsed_sections": []
    },
    "kernelspec": {
      "name": "python3",
      "display_name": "Python 3"
    },
    "language_info": {
      "name": "python"
    }
  },
  "cells": [
    {
      "cell_type": "markdown",
      "source": [
        "# Python program to calculate acceleration, final velocity, initial velocity and time\n",
        "\n",
        "## Enter the Input and output will come for acceleration, final velocity, initial velocity and time\n",
        " \n",
        "\n"
      ],
      "metadata": {
        "id": "JtIFv3yNLn3-"
      }
    },
    {
      "cell_type": "code",
      "execution_count": 2,
      "metadata": {
        "id": "qDPzBvzgLm2J",
        "colab": {
          "base_uri": "https://localhost:8080/"
        },
        "outputId": "7337b7f4-6e27-47c4-f090-6488070fa98f"
      },
      "outputs": [
        {
          "output_type": "stream",
          "name": "stdout",
          "text": [
            "Enter finalVelocity: 10\n",
            "Enter acceleration: 9.8\n",
            "Enter time: 1\n",
            "Initial velocity =  0.1999999999999993\n"
          ]
        }
      ],
      "source": [
        "# acceleration (a), final velocity(v), initial velocity(u) and time(t)\n",
        "# In the first approach, we will find initial velocity by using the formula “u = (v-a*t)”\n",
        "v = float(input(\"Enter finalVelocity: \"))\n",
        "\n",
        "a = float(input(\"Enter acceleration: \"))\n",
        "\n",
        "t = float(input(\"Enter time: \"))\n",
        "initialVelocity = v - a * t\n",
        "print(\"Initial velocity = \", initialVelocity)"
      ]
    },
    {
      "cell_type": "code",
      "source": [
        "# acceleration (a), final velocity(v), initial velocity(u) and time(t)\n",
        "# In the second approach, we will find final velocity by using formula “v =  u + a*t”\n",
        "\n",
        "u = float(input(\"Enter initialVelocity: \"))\n",
        " \n",
        "\n",
        "a = float(input(\"Enter acceleration: \"))\n",
        " \n",
        "t = float(input(\"Enter time: \"))\n",
        "finalVelocity = u + a * t\n",
        "print(\"Final velocity = \", finalVelocity)"
      ],
      "metadata": {
        "colab": {
          "base_uri": "https://localhost:8080/"
        },
        "id": "xukWUv2djp20",
        "outputId": "cf34e124-9a3b-4629-9072-52da7ecc02b7"
      },
      "execution_count": 3,
      "outputs": [
        {
          "output_type": "stream",
          "name": "stdout",
          "text": [
            "Enter initialVelocity: 10\n",
            "Enter acceleration: 9.8\n",
            "Enter time: 1\n",
            "Final velocity =  19.8\n"
          ]
        }
      ]
    },
    {
      "cell_type": "code",
      "source": [
        "# acceleration (a), final velocity(v), initial velocity(u) and time(t)\n",
        "# In the third approach, we will find acceleration by using formula “a = (v – u)/t”\n",
        "\n",
        "u = float (input(\"Enter initialVelocity: \"))\n",
        " \n",
        "\n",
        "v = float (input(\"Enter finalVelocity: \"))\n",
        " \n",
        "\n",
        "t = float (input (\"Enter time: \"))\n",
        " \n",
        "acceleration = (v - u) / t\n",
        "print(\"Acceleration = \", acceleration)"
      ],
      "metadata": {
        "colab": {
          "base_uri": "https://localhost:8080/"
        },
        "id": "ieEdCIR8khO5",
        "outputId": "5fd83fac-5fcf-4d33-e460-c3433d24e222"
      },
      "execution_count": 4,
      "outputs": [
        {
          "output_type": "stream",
          "name": "stdout",
          "text": [
            "Enter initialVelocity: 0\n",
            "Enter finalVelocity: 9.8\n",
            "Enter time: 1\n",
            "Acceleration =  9.8\n"
          ]
        }
      ]
    },
    {
      "cell_type": "code",
      "source": [
        "# acceleration (a), final velocity(v), initial velocity(u) and time(t)\n",
        "# In the fourth approach, we will find time by using formula “t = (v – v)/a”\n",
        "\n",
        "\n",
        "v = float (input (\"Enter finalVelocity: \"))\n",
        " \n",
        "\n",
        "u = float (input(\"Enter initialVelocity: \"))\n",
        " \n",
        "\n",
        "a = float (input(\"Enter acceleration: \"))\n",
        " \n",
        "time = (v - u) / a\n",
        "print(\"Time taken = \", time)"
      ],
      "metadata": {
        "colab": {
          "base_uri": "https://localhost:8080/"
        },
        "id": "ZOQoRkwylGrB",
        "outputId": "d7b55de5-b661-4512-94a5-70eafc017092"
      },
      "execution_count": 5,
      "outputs": [
        {
          "output_type": "stream",
          "name": "stdout",
          "text": [
            "Enter finalVelocity: 10\n",
            "Enter initialVelocity: 0\n",
            "Enter acceleration: 9.8\n",
            "Time taken =  1.0204081632653061\n"
          ]
        }
      ]
    },
    {
      "cell_type": "code",
      "source": [
        ""
      ],
      "metadata": {
        "id": "zAPTAtdultuN"
      },
      "execution_count": null,
      "outputs": []
    }
  ]
}